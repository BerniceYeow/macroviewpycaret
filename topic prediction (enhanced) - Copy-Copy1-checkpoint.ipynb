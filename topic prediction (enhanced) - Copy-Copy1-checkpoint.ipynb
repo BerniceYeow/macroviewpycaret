{
 "cells": [
  {
   "cell_type": "code",
   "execution_count": 129,
   "metadata": {},
   "outputs": [
    {
     "name": "stderr",
     "output_type": "stream",
     "text": [
      "[nltk_data] Downloading package stopwords to\n",
      "[nltk_data]     C:\\Users\\BerniceYeow\\AppData\\Roaming\\nltk_data...\n",
      "[nltk_data]   Package stopwords is already up-to-date!\n"
     ]
    }
   ],
   "source": [
    "import numpy as np\n",
    "import re\n",
    "import nltk\n",
    "from sklearn.datasets import load_files\n",
    "nltk.download('stopwords')\n",
    "import pickle\n",
    "from nltk.corpus import stopwords\n",
    "import pandas as pd"
   ]
  },
  {
   "cell_type": "code",
   "execution_count": 130,
   "metadata": {},
   "outputs": [],
   "source": [
    "movie_data = pd.read_csv(r\"C:\\Users\\BerniceYeow\\Documents\\Microview Learning\\data to train topic.csv\",encoding='latin-1')\n",
    "\n",
    "movie_data = movie_data.sample(frac = 1) \n",
    "\n",
    "movie_data.fillna(\" \", inplace=True)\n",
    "\n",
    "from sklearn.model_selection import train_test_split\n",
    "X = movie_data.text\n",
    "y = movie_data.label\n",
    "X_train, X_test, y_train, y_test = train_test_split(X, y, test_size=0.2, random_state=0)\n"
   ]
  },
  {
   "cell_type": "code",
   "execution_count": 131,
   "metadata": {},
   "outputs": [
    {
     "data": {
      "text/plain": [
       "(3358, 9603)"
      ]
     },
     "execution_count": 131,
     "metadata": {},
     "output_type": "execute_result"
    }
   ],
   "source": [
    "from sklearn.feature_extraction.text import CountVectorizer\n",
    "count_vect = CountVectorizer()\n",
    "X_train_counts = count_vect.fit_transform(X_train)\n",
    "X_train_counts.shape"
   ]
  },
  {
   "cell_type": "code",
   "execution_count": 132,
   "metadata": {},
   "outputs": [
    {
     "data": {
      "text/plain": [
       "(3358, 9603)"
      ]
     },
     "execution_count": 132,
     "metadata": {},
     "output_type": "execute_result"
    }
   ],
   "source": [
    "from sklearn.feature_extraction.text import TfidfTransformer\n",
    "tfidf_transformer = TfidfTransformer()\n",
    "X_train_tfidf = tfidf_transformer.fit_transform(X_train_counts)\n",
    "X_train_tfidf.shape"
   ]
  },
  {
   "cell_type": "code",
   "execution_count": 133,
   "metadata": {},
   "outputs": [],
   "source": [
    "from sklearn.naive_bayes import MultinomialNB\n",
    "clf = MultinomialNB().fit(X_train_tfidf, y_train)"
   ]
  },
  {
   "cell_type": "code",
   "execution_count": 134,
   "metadata": {},
   "outputs": [],
   "source": [
    "from sklearn.pipeline import Pipeline\n",
    "text_clf = Pipeline([('vect', CountVectorizer()),\n",
    "                     ('tfidf', TfidfTransformer()),\n",
    "                     ('clf', MultinomialNB()),\n",
    "])\n",
    "\n"
   ]
  },
  {
   "cell_type": "code",
   "execution_count": 135,
   "metadata": {},
   "outputs": [],
   "source": [
    "text_clf = text_clf.fit(X_train, y_train)"
   ]
  },
  {
   "cell_type": "code",
   "execution_count": 136,
   "metadata": {},
   "outputs": [
    {
     "data": {
      "text/plain": [
       "0.40714285714285714"
      ]
     },
     "execution_count": 136,
     "metadata": {},
     "output_type": "execute_result"
    }
   ],
   "source": [
    "import numpy as np\n",
    "#twenty_test = fetch_20newsgroups(subset='test', shuffle=True)\n",
    "predicted = text_clf.predict(X_test)\n",
    "np.mean(predicted == y_test)"
   ]
  },
  {
   "cell_type": "code",
   "execution_count": 137,
   "metadata": {},
   "outputs": [
    {
     "data": {
      "text/plain": [
       "0.5059523809523809"
      ]
     },
     "execution_count": 137,
     "metadata": {},
     "output_type": "execute_result"
    }
   ],
   "source": [
    "from sklearn.linear_model import SGDClassifier\n",
    "\n",
    "text_clf_svm = Pipeline([('vect', CountVectorizer()),\n",
    "                      ('tfidf', TfidfTransformer()),\n",
    "                      ('clf-svm', SGDClassifier(loss='hinge', penalty='l2',\n",
    "                        alpha=1e-3,  random_state=42)),       \n",
    "])\n",
    "\n",
    "_ = text_clf_svm.fit(X_train, y_train)\n",
    "\n",
    "predicted_svm = text_clf_svm.predict(X_test)\n",
    "np.mean(predicted_svm == y_test)"
   ]
  },
  {
   "cell_type": "code",
   "execution_count": 138,
   "metadata": {},
   "outputs": [],
   "source": [
    "from sklearn.model_selection import GridSearchCV\n",
    "parameters = {'vect__ngram_range': [(1, 1), (1, 2)],\n",
    "              'tfidf__use_idf': (True, False),\n",
    "              'clf__alpha': (1e-2, 1e-3),\n",
    "}"
   ]
  },
  {
   "cell_type": "code",
   "execution_count": 139,
   "metadata": {},
   "outputs": [
    {
     "name": "stderr",
     "output_type": "stream",
     "text": [
      "C:\\ProgramData\\Anaconda3\\lib\\site-packages\\sklearn\\model_selection\\_split.py:672: UserWarning: The least populated class in y has only 1 members, which is less than n_splits=5.\n",
      "  % (min_groups, self.n_splits)), UserWarning)\n"
     ]
    }
   ],
   "source": [
    "gs_clf = GridSearchCV(text_clf, parameters, n_jobs=-1)\n",
    "gs_clf = gs_clf.fit(X_train, y_train)"
   ]
  },
  {
   "cell_type": "code",
   "execution_count": 140,
   "metadata": {},
   "outputs": [
    {
     "data": {
      "text/plain": [
       "{'clf__alpha': 0.01, 'tfidf__use_idf': False, 'vect__ngram_range': (1, 1)}"
      ]
     },
     "execution_count": 140,
     "metadata": {},
     "output_type": "execute_result"
    }
   ],
   "source": [
    "gs_clf.best_score_\n",
    "gs_clf.best_params_"
   ]
  },
  {
   "cell_type": "code",
   "execution_count": 141,
   "metadata": {},
   "outputs": [
    {
     "name": "stderr",
     "output_type": "stream",
     "text": [
      "C:\\ProgramData\\Anaconda3\\lib\\site-packages\\sklearn\\model_selection\\_split.py:672: UserWarning: The least populated class in y has only 1 members, which is less than n_splits=5.\n",
      "  % (min_groups, self.n_splits)), UserWarning)\n"
     ]
    },
    {
     "data": {
      "text/plain": [
       "{'clf-svm__alpha': 0.001, 'tfidf__use_idf': False, 'vect__ngram_range': (1, 1)}"
      ]
     },
     "execution_count": 141,
     "metadata": {},
     "output_type": "execute_result"
    }
   ],
   "source": [
    "from sklearn.model_selection import GridSearchCV\n",
    "parameters_svm = {'vect__ngram_range': [(1, 1), (1, 2)],\n",
    "              'tfidf__use_idf': (True, False),\n",
    "              'clf-svm__alpha': (1e-2, 1e-3),\n",
    "}\n",
    "gs_clf_svm = GridSearchCV(text_clf_svm, parameters_svm, n_jobs=-1)\n",
    "gs_clf_svm = gs_clf_svm.fit(X_train, y_train)\n",
    "gs_clf_svm.best_score_\n",
    "gs_clf_svm.best_params_"
   ]
  },
  {
   "cell_type": "code",
   "execution_count": 142,
   "metadata": {},
   "outputs": [],
   "source": [
    "from sklearn.pipeline import Pipeline\n",
    "from sklearn.svm import LinearSVC"
   ]
  },
  {
   "cell_type": "code",
   "execution_count": 143,
   "metadata": {},
   "outputs": [],
   "source": [
    "from sklearn.multiclass import OneVsRestClassifier\n",
    "#preparing the final pipeline using the selected parameters\n",
    "model = Pipeline([('vectorizer', CountVectorizer(ngram_range=(1,1))),\n",
    "    ('tfidf', TfidfTransformer(use_idf=False)),\n",
    "    ('clf', OneVsRestClassifier(LinearSVC(class_weight=\"balanced\")))])"
   ]
  },
  {
   "cell_type": "code",
   "execution_count": 144,
   "metadata": {},
   "outputs": [
    {
     "data": {
      "text/plain": [
       "array([[ 10,   0,   0,   0,   0,   0,   0,   2,   0,   1,   0,   0],\n",
       "       [  0,   1,   0,   0,   1,   0,   0,   7,   1,   0,   3,   1],\n",
       "       [  0,   0,   9,   0,   0,   1,   0,   0,   0,   0,   1,   3],\n",
       "       [  1,   0,   0,   7,   0,   2,   0,   2,  10,   2,   2,   0],\n",
       "       [  0,   0,   0,   0,   5,   0,   0,   4,   0,   0,   1,   1],\n",
       "       [  0,   0,   0,   0,   0,  18,   0,   1,   0,   1,   0,   7],\n",
       "       [  0,   0,   0,   0,   0,   0,   3,   0,   3,   0,   3,   1],\n",
       "       [  6,   6,   3,   2,   4,   8,   0,  44,  23,   1,   5,   7],\n",
       "       [  2,  11,   4,  14,   3,   3,   1,  30,  98,   6,  11,   8],\n",
       "       [  0,   1,   0,   1,   0,   1,   0,   2,   2, 107,  94,   1],\n",
       "       [  1,   0,   0,   4,   1,   1,   4,   5,   5,  61,  33,  10],\n",
       "       [  1,   1,   7,   1,   1,   4,   0,   5,  13,   2,  10,  46]],\n",
       "      dtype=int64)"
      ]
     },
     "execution_count": 144,
     "metadata": {},
     "output_type": "execute_result"
    }
   ],
   "source": [
    "#fit model with training data\n",
    "model.fit(X_train, y_train)\n",
    "#evaluation on test data\n",
    "pred = model.predict(X_test)\n",
    "from sklearn.metrics import confusion_matrix, accuracy_score\n",
    "confusion_matrix(pred, y_test)"
   ]
  },
  {
   "cell_type": "code",
   "execution_count": 145,
   "metadata": {},
   "outputs": [
    {
     "data": {
      "text/plain": [
       "Pipeline(steps=[('vectorizer', CountVectorizer()),\n",
       "                ('tfidf', TfidfTransformer(use_idf=False)),\n",
       "                ('clf',\n",
       "                 OneVsRestClassifier(estimator=LinearSVC(class_weight='balanced')))])"
      ]
     },
     "execution_count": 145,
     "metadata": {},
     "output_type": "execute_result"
    }
   ],
   "source": [
    "model.fit(X, y)"
   ]
  },
  {
   "cell_type": "code",
   "execution_count": 146,
   "metadata": {},
   "outputs": [
    {
     "data": {
      "text/plain": [
       "0.8130952380952381"
      ]
     },
     "execution_count": 146,
     "metadata": {},
     "output_type": "execute_result"
    }
   ],
   "source": [
    "predicted_svm = model.predict(X_test)\n",
    "np.mean(predicted_svm == y_test)"
   ]
  },
  {
   "cell_type": "code",
   "execution_count": 147,
   "metadata": {},
   "outputs": [],
   "source": [
    "with open('tnb_topic_classifier_svm', 'wb') as picklefile:\n",
    "    pickle.dump(model,picklefile)"
   ]
  },
  {
   "cell_type": "code",
   "execution_count": 148,
   "metadata": {},
   "outputs": [],
   "source": [
    "with open('tnb_topic_classifier_svm', 'rb') as training_model:\n",
    "    model = pickle.load(training_model)"
   ]
  },
  {
   "cell_type": "code",
   "execution_count": 149,
   "metadata": {},
   "outputs": [
    {
     "name": "stdout",
     "output_type": "stream",
     "text": [
      "['bill matters - understanding' 'Gov- BPE Understanding' 'contact'\n",
      " 'enquiries' 'bill matters - understanding' 'enquiries' 'contact'\n",
      " 'contact' 'bill matters - understanding' 'Ranting - Meter Reading'\n",
      " 'bill matters - payment' 'Ranting - Meter Reading'\n",
      " 'bill matters - understanding' 'contact' 'Technical - Breakdown'\n",
      " 'TNB Dividend' 'enquiries' 'bill matters - understanding'\n",
      " 'bill matters - payment' 'Ranting - Meter Reading' 'contact' 'contact'\n",
      " 'bill matters - payment' 'contact' 'bill matters - understanding'\n",
      " 'ranting - extra charges' 'bill matters - understanding' 'contact'\n",
      " 'contact' 'Ranting - Meter Reading' 'bill matters - payment' 'contact'\n",
      " 'TNB Dividend' 'enquiries' 'bill matters - understanding' 'contact'\n",
      " 'contact' 'bill matters - understanding' 'enquiries'\n",
      " 'Gov- BPE Understanding' 'bill matters - payment' 'enquiries' 'contact'\n",
      " 'Attack on TNB Staff' 'apps' 'Ranting - Meter Reading'\n",
      " 'bill matters - payment' 'Attack on TNB Staff'\n",
      " 'bill matters - understanding' 'Technical - Breakdown' 'contact'\n",
      " 'Technical - Breakdown' 'Monopoly' 'contact' 'contact' 'contact'\n",
      " 'bill matters - payment' 'bill matters - payment'\n",
      " 'bill matters - understanding' 'enquiries' 'bill matters - understanding'\n",
      " 'enquiries' 'enquiries' 'Ranting - Meter Reading' 'contact' 'contact'\n",
      " 'contact' 'contact' 'bill matters - understanding'\n",
      " 'ranting - extra charges' 'contact' 'ranting - extra charges' 'contact'\n",
      " 'contact' 'contact' 'contact' 'enquiries' 'contact' 'Attack on TNB Staff'\n",
      " 'bill matters - payment' 'contact' 'contact' 'Gov- BPE Understanding'\n",
      " 'contact' 'bill matters - payment' 'Gov- BPE Understanding'\n",
      " 'bill matters - understanding' 'bill matters - understanding'\n",
      " 'Gov- BPE Understanding' 'ranting - extra charges' 'contact'\n",
      " 'bill matters - understanding' 'Monopoly' 'contact'\n",
      " 'bill matters - understanding' 'TNB Dividend'\n",
      " 'bill matters - understanding' 'Technical - Breakdown'\n",
      " 'ranting - extra charges' 'contact' 'contact' 'enquiries' 'contact'\n",
      " 'ranting - extra charges' 'bill matters - understanding' 'contact'\n",
      " 'contact' 'bill matters - payment' 'ranting - extra charges'\n",
      " 'Attack on TNB Staff' 'ranting - extra charges' 'Technical - Breakdown'\n",
      " 'contact' 'bill matters - payment' 'Ranting - Meter Reading'\n",
      " 'bill matters - payment' 'bill matters - payment'\n",
      " 'ranting - extra charges' 'bill matters - payment' 'contact'\n",
      " 'bill matters - understanding' 'Ranting - Meter Reading' 'contact'\n",
      " 'bill matters - understanding' 'contact' 'contact' 'contact' 'contact'\n",
      " 'bill matters - payment' 'ranting - extra charges' 'enquiries'\n",
      " 'Technical - Breakdown' 'Technical - Breakdown' 'TNB Dividend'\n",
      " 'bill matters - understanding' 'ranting - extra charges'\n",
      " 'Attack on TNB Staff' 'contact' 'ranting - extra charges' 'contact'\n",
      " 'contact' 'enquiries' 'bill matters - understanding'\n",
      " 'Attack on TNB Staff' 'bill matters - understanding'\n",
      " 'Technical - Breakdown' 'bill matters - payment'\n",
      " 'bill matters - understanding' 'ranting - extra charges'\n",
      " 'ranting - extra charges' 'Attack on TNB Staff' 'contact'\n",
      " 'Ranting - Meter Reading' 'contact' 'bill matters - understanding'\n",
      " 'bill matters - understanding' 'bill matters - payment' 'contact'\n",
      " 'enquiries' 'Ranting - Meter Reading' 'contact'\n",
      " 'bill matters - understanding' 'contact' 'bill matters - understanding'\n",
      " 'ranting - extra charges' 'ranting - extra charges' 'Attack on TNB Staff'\n",
      " 'Monopoly' 'contact' 'bill matters - payment' 'contact' 'contact'\n",
      " 'contact' 'contact' 'contact' 'Monopoly' 'bill matters - understanding'\n",
      " 'contact' 'enquiries' 'contact' 'bill matters - understanding'\n",
      " 'Technical - Breakdown' 'Gov- BPE Understanding' 'enquiries' 'enquiries'\n",
      " 'Technical - Breakdown' 'TNB Dividend' 'enquiries' 'Monopoly'\n",
      " 'bill matters - understanding' 'Ranting - Meter Reading'\n",
      " 'ranting - extra charges' 'Monopoly' 'Technical - Breakdown'\n",
      " 'ranting - extra charges' 'enquiries' 'bill matters - payment'\n",
      " 'bill matters - understanding' 'ranting - extra charges' 'contact'\n",
      " 'Monopoly' 'bill matters - payment' 'ranting - extra charges'\n",
      " 'bill matters - payment' 'Attack on TNB Staff' 'bill matters - payment'\n",
      " 'contact' 'bill matters - payment' 'ranting - extra charges' 'contact'\n",
      " 'bill matters - understanding' 'bill matters - payment'\n",
      " 'bill matters - payment' 'contact' 'contact' 'ranting - extra charges'\n",
      " 'bill matters - understanding' 'contact' 'contact' 'contact' 'contact'\n",
      " 'Technical - Breakdown' 'Gov- BPE Understanding' 'enquiries' 'enquiries'\n",
      " 'ranting - extra charges' 'enquiries' 'contact' 'contact' 'Monopoly'\n",
      " 'contact' 'Ranting - Meter Reading' 'Technical - Breakdown' 'Monopoly'\n",
      " 'Gov- BPE Understanding' 'contact' 'bill matters - understanding'\n",
      " 'enquiries' 'Monopoly' 'contact' 'enquiries' 'contact'\n",
      " 'bill matters - understanding' 'enquiries' 'contact' 'contact'\n",
      " 'bill matters - payment' 'contact' 'ranting - extra charges'\n",
      " 'bill matters - understanding' 'contact' 'ranting - extra charges'\n",
      " 'ranting - extra charges' 'TNB Dividend' 'ranting - extra charges'\n",
      " 'contact' 'contact' 'enquiries' 'bill matters - understanding'\n",
      " 'Attack on TNB Staff' 'bill matters - understanding' 'contact' 'contact'\n",
      " 'contact' 'Monopoly' 'contact' 'Ranting - Meter Reading'\n",
      " 'bill matters - understanding' 'Technical - Breakdown' 'TNB Dividend'\n",
      " 'bill matters - understanding' 'bill matters - payment' 'Monopoly'\n",
      " 'ranting - extra charges' 'bill matters - payment'\n",
      " 'bill matters - payment' 'Technical - Breakdown'\n",
      " 'bill matters - understanding' 'enquiries' 'Ranting - Meter Reading'\n",
      " 'enquiries' 'TNB Dividend' 'contact' 'bill matters - understanding'\n",
      " 'bill matters - payment' 'enquiries' 'contact' 'ranting - extra charges'\n",
      " 'bill matters - understanding' 'apps' 'TNB Dividend'\n",
      " 'bill matters - understanding' 'contact' 'contact' 'contact' 'contact'\n",
      " 'apps' 'Technical - Breakdown' 'enquiries' 'bill matters - understanding'\n",
      " 'contact' 'Monopoly' 'Gov- BPE Understanding'\n",
      " 'bill matters - understanding' 'Technical - Breakdown'\n",
      " 'Gov- BPE Understanding' 'enquiries' 'Attack on TNB Staff' 'contact'\n",
      " 'bill matters - understanding' 'ranting - extra charges' 'Monopoly'\n",
      " 'bill matters - understanding' 'bill matters - payment'\n",
      " 'bill matters - payment' 'ranting - extra charges'\n",
      " 'bill matters - understanding' 'TNB Dividend' 'contact'\n",
      " 'ranting - extra charges' 'bill matters - understanding'\n",
      " 'bill matters - understanding' 'ranting - extra charges'\n",
      " 'Gov- BPE Understanding' 'bill matters - understanding' 'contact'\n",
      " 'contact' 'bill matters - understanding' 'bill matters - understanding'\n",
      " 'enquiries' 'ranting - extra charges' 'contact' 'ranting - extra charges'\n",
      " 'bill matters - payment' 'ranting - extra charges'\n",
      " 'bill matters - understanding' 'Ranting - Meter Reading' 'contact'\n",
      " 'Technical - Breakdown' 'bill matters - payment'\n",
      " 'ranting - extra charges' 'enquiries' 'enquiries'\n",
      " 'ranting - extra charges' 'ranting - extra charges' 'contact' 'enquiries'\n",
      " 'contact' 'Ranting - Meter Reading' 'ranting - extra charges' 'contact'\n",
      " 'bill matters - payment' 'ranting - extra charges'\n",
      " 'bill matters - understanding' 'contact' 'bill matters - payment'\n",
      " 'contact' 'enquiries' 'contact' 'ranting - extra charges'\n",
      " 'Ranting - Meter Reading' 'bill matters - payment' 'contact'\n",
      " 'bill matters - understanding' 'bill matters - understanding' 'contact'\n",
      " 'contact' 'bill matters - payment' 'bill matters - payment' 'contact'\n",
      " 'contact' 'enquiries' 'enquiries' 'Attack on TNB Staff'\n",
      " 'ranting - extra charges' 'enquiries' 'contact' 'enquiries'\n",
      " 'Ranting - Meter Reading' 'bill matters - understanding'\n",
      " 'bill matters - payment' 'Technical - Breakdown'\n",
      " 'bill matters - understanding' 'enquiries' 'enquiries'\n",
      " 'bill matters - payment' 'Monopoly' 'bill matters - understanding'\n",
      " 'Monopoly' 'Monopoly' 'contact' 'enquiries' 'ranting - extra charges'\n",
      " 'ranting - extra charges' 'bill matters - understanding'\n",
      " 'ranting - extra charges' 'contact' 'Attack on TNB Staff'\n",
      " 'bill matters - understanding' 'apps' 'contact' 'contact'\n",
      " 'bill matters - understanding' 'Attack on TNB Staff'\n",
      " 'ranting - extra charges' 'bill matters - understanding' 'contact'\n",
      " 'Monopoly' 'apps' 'contact' 'Gov- BPE Understanding'\n",
      " 'bill matters - understanding' 'contact' 'bill matters - understanding'\n",
      " 'contact' 'bill matters - payment' 'apps' 'apps' 'bill matters - payment'\n",
      " 'Attack on TNB Staff' 'bill matters - payment' 'enquiries' 'contact'\n",
      " 'enquiries' 'bill matters - understanding' 'ranting - extra charges'\n",
      " 'bill matters - understanding' 'contact' 'contact'\n",
      " 'ranting - extra charges' 'enquiries' 'bill matters - understanding'\n",
      " 'bill matters - payment' 'enquiries' 'apps'\n",
      " 'bill matters - understanding' 'contact' 'enquiries'\n",
      " 'bill matters - understanding' 'bill matters - understanding'\n",
      " 'ranting - extra charges' 'ranting - extra charges' 'contact' 'contact'\n",
      " 'bill matters - payment' 'contact' 'Monopoly' 'contact'\n",
      " 'bill matters - understanding' 'bill matters - understanding' 'enquiries'\n",
      " 'bill matters - understanding' 'Technical - Breakdown'\n",
      " 'ranting - extra charges' 'bill matters - payment'\n",
      " 'bill matters - payment' 'Ranting - Meter Reading'\n",
      " 'Gov- BPE Understanding' 'bill matters - understanding'\n",
      " 'bill matters - payment' 'enquiries' 'contact' 'contact'\n",
      " 'bill matters - payment' 'enquiries' 'bill matters - payment'\n",
      " 'Technical - Breakdown' 'Monopoly' 'Gov- BPE Understanding' 'enquiries'\n",
      " 'bill matters - understanding' 'enquiries' 'contact' 'contact'\n",
      " 'enquiries' 'contact' 'contact' 'bill matters - payment'\n",
      " 'Gov- BPE Understanding' 'contact' 'bill matters - understanding'\n",
      " 'enquiries' 'Technical - Breakdown' 'bill matters - payment' 'enquiries'\n",
      " 'TNB Dividend' 'enquiries' 'Technical - Breakdown'\n",
      " 'bill matters - understanding' 'ranting - extra charges' 'contact'\n",
      " 'contact' 'bill matters - payment' 'bill matters - payment'\n",
      " 'bill matters - understanding' 'contact' 'enquiries' 'contact'\n",
      " 'bill matters - understanding' 'contact' 'bill matters - payment'\n",
      " 'Ranting - Meter Reading' 'Technical - Breakdown'\n",
      " 'bill matters - payment' 'Monopoly' 'Ranting - Meter Reading'\n",
      " 'bill matters - payment' 'Gov- BPE Understanding'\n",
      " 'ranting - extra charges' 'enquiries' 'Technical - Breakdown'\n",
      " 'bill matters - payment' 'contact' 'bill matters - understanding'\n",
      " 'bill matters - understanding' 'bill matters - understanding'\n",
      " 'ranting - extra charges' 'contact' 'bill matters - payment' 'enquiries'\n",
      " 'bill matters - payment' 'enquiries' 'ranting - extra charges' 'contact'\n",
      " 'contact' 'Technical - Breakdown' 'contact' 'bill matters - payment'\n",
      " 'enquiries' 'enquiries' 'enquiries' 'ranting - extra charges'\n",
      " 'bill matters - understanding' 'ranting - extra charges' 'contact'\n",
      " 'contact' 'Ranting - Meter Reading' 'contact' 'enquiries'\n",
      " 'bill matters - understanding' 'enquiries' 'contact'\n",
      " 'Gov- BPE Understanding' 'bill matters - payment' 'enquiries' 'contact'\n",
      " 'bill matters - understanding' 'apps' 'Monopoly' 'bill matters - payment'\n",
      " 'ranting - extra charges' 'Gov- BPE Understanding'\n",
      " 'bill matters - payment' 'contact' 'ranting - extra charges'\n",
      " 'bill matters - understanding' 'enquiries' 'TNB Dividend'\n",
      " 'bill matters - payment' 'Technical - Breakdown'\n",
      " 'bill matters - understanding' 'ranting - extra charges' 'enquiries'\n",
      " 'Ranting - Meter Reading' 'bill matters - understanding' 'enquiries'\n",
      " 'TNB Dividend' 'enquiries' 'contact' 'bill matters - understanding'\n",
      " 'enquiries' 'bill matters - understanding' 'contact'\n",
      " 'bill matters - understanding' 'contact' 'bill matters - payment'\n",
      " 'contact' 'contact' 'bill matters - understanding'\n",
      " 'bill matters - understanding' 'bill matters - payment' 'contact'\n",
      " 'contact' 'contact' 'apps' 'Technical - Breakdown' 'contact'\n",
      " 'ranting - extra charges' 'contact' 'Ranting - Meter Reading' 'contact'\n",
      " 'Technical - Breakdown' 'bill matters - understanding' 'contact'\n",
      " 'contact' 'Technical - Breakdown' 'TNB Dividend' 'bill matters - payment'\n",
      " 'Technical - Breakdown' 'Technical - Breakdown'\n",
      " 'bill matters - understanding' 'Ranting - Meter Reading'\n",
      " 'Ranting - Meter Reading' 'contact' 'contact'\n",
      " 'bill matters - understanding' 'TNB Dividend' 'enquiries'\n",
      " 'bill matters - payment' 'Technical - Breakdown' 'bill matters - payment'\n",
      " 'ranting - extra charges' 'apps' 'enquiries' 'bill matters - payment'\n",
      " 'Technical - Breakdown' 'bill matters - understanding'\n",
      " 'bill matters - understanding' 'contact' 'contact'\n",
      " 'ranting - extra charges' 'bill matters - payment' 'contact'\n",
      " 'bill matters - understanding' 'contact' 'contact'\n",
      " 'bill matters - payment' 'bill matters - understanding'\n",
      " 'bill matters - payment' 'Ranting - Meter Reading' 'enquiries'\n",
      " 'bill matters - payment' 'Gov- BPE Understanding' 'Monopoly'\n",
      " 'Attack on TNB Staff' 'enquiries' 'enquiries' 'Attack on TNB Staff'\n",
      " 'TNB Dividend' 'contact' 'bill matters - payment' 'contact'\n",
      " 'bill matters - payment' 'contact' 'ranting - extra charges'\n",
      " 'TNB Dividend' 'bill matters - understanding'\n",
      " 'bill matters - understanding' 'enquiries' 'ranting - extra charges'\n",
      " 'Ranting - Meter Reading' 'bill matters - understanding' 'enquiries'\n",
      " 'ranting - extra charges' 'bill matters - payment'\n",
      " 'bill matters - understanding' 'Ranting - Meter Reading'\n",
      " 'bill matters - payment' 'enquiries' 'bill matters - understanding'\n",
      " 'bill matters - payment' 'bill matters - understanding' 'enquiries'\n",
      " 'contact' 'contact' 'contact' 'ranting - extra charges'\n",
      " 'Ranting - Meter Reading' 'bill matters - understanding' 'contact'\n",
      " 'Technical - Breakdown' 'Technical - Breakdown' 'Ranting - Meter Reading'\n",
      " 'Attack on TNB Staff' 'ranting - extra charges' 'bill matters - payment'\n",
      " 'contact' 'bill matters - understanding' 'Technical - Breakdown'\n",
      " 'Monopoly' 'bill matters - understanding' 'enquiries' 'contact'\n",
      " 'bill matters - payment' 'Ranting - Meter Reading'\n",
      " 'bill matters - understanding' 'enquiries' 'bill matters - understanding'\n",
      " 'contact' 'bill matters - payment' 'contact' 'enquiries'\n",
      " 'bill matters - understanding' 'contact' 'bill matters - understanding'\n",
      " 'contact' 'bill matters - understanding' 'bill matters - payment'\n",
      " 'enquiries' 'ranting - extra charges' 'Gov- BPE Understanding' 'contact'\n",
      " 'bill matters - understanding' 'Technical - Breakdown'\n",
      " 'bill matters - understanding' 'contact' 'bill matters - understanding'\n",
      " 'ranting - extra charges' 'contact' 'bill matters - payment' 'enquiries'\n",
      " 'bill matters - understanding' 'contact' 'bill matters - understanding'\n",
      " 'ranting - extra charges' 'ranting - extra charges'\n",
      " 'bill matters - payment' 'bill matters - payment' 'contact' 'contact'\n",
      " 'bill matters - understanding' 'ranting - extra charges'\n",
      " 'ranting - extra charges' 'bill matters - understanding'\n",
      " 'Attack on TNB Staff' 'contact' 'contact' 'enquiries'\n",
      " 'bill matters - understanding' 'bill matters - understanding'\n",
      " 'Gov- BPE Understanding' 'bill matters - understanding'\n",
      " 'Technical - Breakdown' 'Technical - Breakdown' 'enquiries' 'contact'\n",
      " 'enquiries' 'enquiries' 'contact' 'Attack on TNB Staff'\n",
      " 'bill matters - understanding' 'bill matters - understanding'\n",
      " 'bill matters - understanding' 'bill matters - payment' 'enquiries'\n",
      " 'bill matters - understanding' 'contact' 'bill matters - payment'\n",
      " 'contact' 'Monopoly' 'ranting - extra charges' 'enquiries' 'contact'\n",
      " 'contact' 'ranting - extra charges' 'Ranting - Meter Reading' 'contact'\n",
      " 'ranting - extra charges' 'enquiries' 'enquiries' 'contact' 'contact'\n",
      " 'contact' 'enquiries' 'Technical - Breakdown'\n",
      " 'bill matters - understanding' 'ranting - extra charges'\n",
      " 'Gov- BPE Understanding' 'contact' 'Monopoly' 'contact'\n",
      " 'bill matters - payment' 'bill matters - understanding' 'contact'\n",
      " 'contact' 'enquiries' 'Technical - Breakdown' 'Ranting - Meter Reading'\n",
      " 'Gov- BPE Understanding' 'ranting - extra charges'\n",
      " 'bill matters - payment' 'contact' 'Technical - Breakdown'\n",
      " 'bill matters - payment' 'bill matters - understanding'\n",
      " 'Ranting - Meter Reading' 'contact' 'contact' 'enquiries' 'apps'\n",
      " 'contact' 'Technical - Breakdown' 'enquiries' 'contact'\n",
      " 'ranting - extra charges' 'Ranting - Meter Reading' 'Attack on TNB Staff'\n",
      " 'bill matters - understanding' 'enquiries' 'ranting - extra charges'\n",
      " 'Attack on TNB Staff' 'Ranting - Meter Reading' 'contact' 'contact'\n",
      " 'enquiries' 'Attack on TNB Staff' 'contact'\n",
      " 'bill matters - understanding' 'contact' 'TNB Dividend' 'contact'\n",
      " 'TNB Dividend' 'bill matters - understanding' 'contact'\n",
      " 'bill matters - understanding' 'TNB Dividend' 'Technical - Breakdown'\n",
      " 'contact' 'contact' 'contact' 'ranting - extra charges' 'contact'\n",
      " 'bill matters - understanding' 'contact' 'contact'\n",
      " 'bill matters - payment' 'apps' 'bill matters - understanding'\n",
      " 'bill matters - understanding' 'bill matters - payment'\n",
      " 'ranting - extra charges' 'Gov- BPE Understanding' 'enquiries'\n",
      " 'bill matters - understanding' 'bill matters - understanding'\n",
      " 'bill matters - understanding' 'enquiries' 'bill matters - understanding'\n",
      " 'bill matters - understanding' 'enquiries']\n"
     ]
    }
   ],
   "source": [
    "y_pred2 = model.predict(X_test)\n",
    "print(y_pred2)"
   ]
  }
 ],
 "metadata": {
  "kernelspec": {
   "display_name": "Python 3",
   "language": "python",
   "name": "python3"
  },
  "language_info": {
   "codemirror_mode": {
    "name": "ipython",
    "version": 3
   },
   "file_extension": ".py",
   "mimetype": "text/x-python",
   "name": "python",
   "nbconvert_exporter": "python",
   "pygments_lexer": "ipython3",
   "version": "3.7.7"
  }
 },
 "nbformat": 4,
 "nbformat_minor": 4
}
